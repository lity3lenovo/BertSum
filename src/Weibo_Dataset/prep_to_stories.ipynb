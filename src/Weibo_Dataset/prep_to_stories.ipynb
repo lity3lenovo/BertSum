{
 "cells": [
  {
   "cell_type": "code",
   "execution_count": 1,
   "metadata": {
    "scrolled": true
   },
   "outputs": [
    {
     "name": "stdout",
     "output_type": "stream",
     "text": [
      "21.34189510345459\n"
     ]
    }
   ],
   "source": [
    "import numpy as np\n",
    "import pandas as pd\n",
    "import time\n",
    "\n",
    "def split_sentences(texts):\n",
    "    '''\n",
    "    把texts拆分成单个句子，保存在列表里面，以（.!?。！？）这些标点作为拆分的意见，\n",
    "    :param texts: 文本信息\n",
    "    :return:\n",
    "    '''\n",
    "    splitstr = '.!?。！？'#.decode(encoding='utf8')\n",
    "    start = 0\n",
    "    index = 0  # 每个字符的位置\n",
    "    sentences = []\n",
    "    for text in texts:\n",
    "        if text in splitstr:  # 检查标点符号下一个字符是否还是标点\n",
    "            sentences.append(texts[start:index + 1])  # 当前标点符号位置\n",
    "            start = index + 1  # start标记到下一句的开头\n",
    "        index += 1\n",
    "    if start < len(texts):\n",
    "        sentences.append(texts[start:])  # 这是为了处理文本末尾没有标\n",
    "    return sentences\n",
    "#splited_sentences = split_sentences('小张在南京一整形诊所接受鼻部整形，主刀的韩国医生朴光哲，号称“世界鼻部整形泰斗”、“韩国美鼻教父”。没多久，小张的鼻子歪了，假体快滑出鼻尖。记者得知，朴光哲未注册就在中国进行整容手术，属非法行医。整容有风险，提醒爱美的TA！江苏新闻的秒拍视频')\n",
    "\n",
    "label_file = open('train_label.txt','rb')\n",
    "text_file = open('train_text.txt','rb')\n",
    "#print(label_file.readlines()[:10])\n",
    "start_time=time.time()\n",
    "for i in range(1):\n",
    "    file_path = 'raw_stories\\weibo_'+str(i)+'.story'\n",
    "    story_file = open(file_path, \"a\",encoding='utf-8')\n",
    "    text = text_file.readline().decode('utf-8')\n",
    "    story_file.write(text)\n",
    "    story_file.write('\\n'+'@highlight'+'\\n')\n",
    "    label = label_file.readline().decode('utf-8')\n",
    "    story_file.write(label)\n",
    "print(time.time()-start_time)    \n",
    "    \n",
    "#print(label_file.readline().decode('utf-8'))\n",
    "#print(label_file.readline().decode('utf-8'))\n",
    "#df_label = pd.read_csv('train_label.txt')\n",
    "#print(df_label.shape)\n",
    "\n",
    "#print(text_file.readlines()[0].decode('utf-8'))\n",
    "#label_lines = label_file.readlines()\n",
    "#for i in range(0,10):\n",
    "#    print(label_file.read().decode('utf-8'))\n",
    "\n",
    "\n",
    "#print(len(text_file.readlines()))\n",
    "#print([text.decode('utf-8') for text in text_file.readlines()],[label.decode('utf-8') for label in label_file.readlines()])\n"
   ]
  },
  {
   "cell_type": "code",
   "execution_count": null,
   "metadata": {},
   "outputs": [],
   "source": []
  },
  {
   "cell_type": "code",
   "execution_count": null,
   "metadata": {},
   "outputs": [],
   "source": []
  }
 ],
 "metadata": {
  "kernelspec": {
   "display_name": "Python 3",
   "language": "python",
   "name": "python3"
  },
  "language_info": {
   "codemirror_mode": {
    "name": "ipython",
    "version": 3
   },
   "file_extension": ".py",
   "mimetype": "text/x-python",
   "name": "python",
   "nbconvert_exporter": "python",
   "pygments_lexer": "ipython3",
   "version": "3.7.0"
  }
 },
 "nbformat": 4,
 "nbformat_minor": 2
}
